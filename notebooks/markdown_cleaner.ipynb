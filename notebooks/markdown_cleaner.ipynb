{
 "cells": [
  {
   "cell_type": "markdown",
   "id": "866ea665",
   "metadata": {},
   "source": [
    "# Markdown Cleaner\n",
    "\n",
    "處理流程：\n",
    "- 讀取來源 Markdown（保留原標題層級 `#`）\n",
    "- 依設定移除粗體、HTML 註解、統一標題為 `##`\n",
    "- 另存為附加 `_無粗體` 字尾之檔案\n",
    "\n",
    "可在下方「設定區」控制各功能是否啟用，預設全部開啟。\n",
    "完成設定後執行主程式格即可產生新檔。"
   ]
  },
  {
   "cell_type": "code",
   "execution_count": null,
   "id": "1e8e0881",
   "metadata": {},
   "outputs": [],
   "source": [
    "# ---- 設定區：可依需求調整 ----\n",
    "source_relative = Path('mkdocs/My_Notes/113憲判字11號判決/法官學院書面稿.md')\n",
    "\n",
    "output_relative = Path('mkdocs/My_Notes/113憲判字11號判決/給老師的/遺產稅案例研討_法官學院書面稿_20251011.md')\n",
    "remove_bold = True\n",
    "remove_comments = True\n",
    "normalize_headings = False\n",
    "\n",
    "# --------------------------------\n"
   ]
  },
  {
   "cell_type": "code",
   "execution_count": null,
   "id": "602aa604",
   "metadata": {},
   "outputs": [
    {
     "name": "stdout",
     "output_type": "stream",
     "text": [
      "來源檔案：/home/jovyan/work/mkdocs/My_Notes/113憲判字11號判決/法官學院書面稿.md\n",
      "原始字元數：29,752\n",
      "已輸出：/home/jovyan/mkdocs/My_Notes/113憲判字11號判決/給老師的/遺產稅案例研討_法官學院書面稿_20251011.md\n",
      "新檔字元數：29,138\n"
     ]
    }
   ],
   "source": [
    "from pathlib import Path\n",
    "import re\n",
    "\n",
    "BASE_DIR = Path.cwd()\n",
    "possible_roots = [BASE_DIR, BASE_DIR / 'work'] + list(BASE_DIR.parents) + list((BASE_DIR / 'work').parents)\n",
    "\n",
    "def resolve_path(relative):\n",
    "    p = Path(relative)\n",
    "    if p.is_absolute():\n",
    "        return p if p.exists() else None\n",
    "    for base in possible_roots:\n",
    "        candidate = (base / p).resolve()\n",
    "        if candidate.exists():\n",
    "            return candidate\n",
    "    return None\n",
    "\n",
    "source_path = resolve_path(source_relative)\n",
    "if source_path is None:\n",
    "    raise FileNotFoundError(f'找不到來源檔案：{source_relative}')\n",
    "\n",
    "output_path = (BASE_DIR / output_relative).resolve()\n",
    "output_path.parent.mkdir(parents=True, exist_ok=True)\n",
    "\n",
    "text = source_path.read_text(encoding='utf-8')\n",
    "print(f'來源檔案：{source_path}')\n",
    "print(f'原始字元數：{len(text):,}')\n",
    "\n",
    "processed = text\n",
    "\n",
    "if remove_bold:\n",
    "    bold_pattern = re.compile(r'\\*\\*(.+?)\\*\\*', flags=re.DOTALL)\n",
    "    processed = bold_pattern.sub(lambda m: m.group(1), processed)\n",
    "\n",
    "if remove_comments:\n",
    "    comment_pattern = re.compile(r'<!--.*?-->', flags=re.DOTALL)\n",
    "    processed = comment_pattern.sub('', processed)\n",
    "\n",
    "if normalize_headings:\n",
    "    heading_pattern = re.compile(r'^(#+)\\s*(.*)$', flags=re.MULTILINE)\n",
    "    def normalize(match: re.Match) -> str:\n",
    "        hashes, title = match.group(1), match.group(2).strip()\n",
    "        if len(hashes) <= 1:\n",
    "            return '# ' + title\n",
    "        return '## ' + title\n",
    "    processed = heading_pattern.sub(normalize, processed)\n",
    "\n",
    "output_path.write_text(processed, encoding='utf-8')\n",
    "print(f'已輸出：{output_path}')\n",
    "print(f'新檔字元數：{len(processed):,}')\n"
   ]
  }
 ],
 "metadata": {
  "kernelspec": {
   "display_name": "Python 3 (ipykernel)",
   "language": "python",
   "name": "python3"
  }
 },
 "nbformat": 4,
 "nbformat_minor": 5
}
