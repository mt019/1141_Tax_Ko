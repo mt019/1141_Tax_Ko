{
  "cells": [
    {
      "cell_type": "markdown",
      "id": "866ea665",
      "metadata": {},
      "source": [
        "# Markdown Cleaner\n",
        "\n",
        "處理流程：\n",
        "- 讀取來源 Markdown（保留原標題層級 `#`）\n",
        "- 移除 `**粗體**` 標記與 `<!-- comment -->` 區塊\n",
        "- 將其餘標題統一為 `##` 並輸出 `_無粗體` 版本\n",
        "\n",
        "在 Docker/Jupyter 環境中直接執行下方程式格即可。"
      ]
    },
    {
      "cell_type": "code",
      "execution_count": 59,
      "id": "602aa604",
      "metadata": {},
      "outputs": [
        {
          "name": "stdout",
          "output_type": "stream",
          "text": [
            "來源檔案：/home/jovyan/work/mkdocs/My_Notes/113憲判字11號判決/法官學院書面稿.md\n",
            "原始字元數：29,648\n",
            "已輸出：/home/jovyan/work/mkdocs/My_Notes/113憲判字11號判決/法官學院書面稿_無粗體.md\n",
            "新檔字元數：28,968\n"
          ]
        }
      ],
      "source": [
        "from pathlib import Path\n",
        "import re\n",
        "\n",
        "BASE_DIR = Path.cwd()\n",
        "possible_roots = [BASE_DIR, BASE_DIR / 'work'] + list(BASE_DIR.parents) + list((BASE_DIR / 'work').parents)\n",
        "\n",
        "def resolve_path(relative):\n",
        "    p = Path(relative)\n",
        "    if p.is_absolute():\n",
        "        return p if p.exists() else None\n",
        "    for base in possible_roots:\n",
        "        candidate = (base / p).resolve()\n",
        "        if candidate.exists():\n",
        "            return candidate\n",
        "    return None\n",
        "\n",
        "source_relative = Path('mkdocs/My_Notes/113憲判字11號判決/法官學院書面稿.md')\n",
        "\n",
        "source_path = resolve_path(source_relative)\n",
        "if source_path is None:\n",
        "    raise FileNotFoundError(f'找不到來源檔案：{source_relative}')\n",
        "\n",
        "output_path = source_path.with_name(source_path.stem + '_無粗體.md')\n",
        "\n",
        "text = source_path.read_text(encoding='utf-8')\n",
        "print(f'來源檔案：{source_path}')\n",
        "print(f'原始字元數：{len(text):,}')\n",
        "\n",
        "bold_pattern = re.compile(r'\\*\\*(.+?)\\*\\*', flags=re.DOTALL)\n",
        "comment_pattern = re.compile(r'<!--.*?-->', flags=re.DOTALL)\n",
        "heading_pattern = re.compile(r'^(#+)\\s*(.*)$', flags=re.MULTILINE)\n",
        "\n",
        "processed = bold_pattern.sub(lambda m: m.group(1), text)\n",
        "processed = comment_pattern.sub('', processed)\n",
        "\n",
        "def normalize_headings(content: str) -> str:\n",
        "    def repl(match: re.Match) -> str:\n",
        "        hashes, title = match.group(1), match.group(2).strip()\n",
        "        if len(hashes) <= 1:\n",
        "            return '# ' + title\n",
        "        return '## ' + title\n",
        "    return heading_pattern.sub(repl, content)\n",
        "\n",
        "processed = normalize_headings(processed)\n",
        "\n",
        "output_path.write_text(processed, encoding='utf-8')\n",
        "print(f'已輸出：{output_path}')\n",
        "print(f'新檔字元數：{len(processed):,}')\n"
      ]
    }
  ],
  "metadata": {
    "kernelspec": {
      "display_name": "Python 3 (ipykernel)",
      "language": "python",
      "name": "python3"
    },
    "language_info": {
      "codemirror_mode": {
        "name": "ipython",
        "version": 3
      },
      "file_extension": ".py",
      "mimetype": "text/x-python",
      "name": "python",
      "nbconvert_exporter": "python",
      "pygments_lexer": "ipython3",
      "version": "3.11.6"
    }
  },
  "nbformat": 4,
  "nbformat_minor": 5
}
