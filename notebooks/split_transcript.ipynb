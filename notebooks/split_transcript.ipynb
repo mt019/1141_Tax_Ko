{
  "cells": [
    {
      "cell_type": "markdown",
      "metadata": {},
      "source": [
        "# 逐字稿自動分段工具 (2,000–3,000 字)\n",
        "\n",
        "這份 Notebook 把貼成一整段的逐字稿，依字數切成段落。流程：\n",
        "\n",
        "1. 設定要處理的檔案路徑，以及每段字數範圍（預設 2,000–3,000 字）。\n",
        "2. 執行分段函式，先預覽每段的長度與內容。\n",
        "3. 確認沒問題後寫回原檔（或另存）。\n",
        "\n",
        "> ⚠️ 建議先備份原檔，或在 `WRITE_BACK` 參數確認無誤後再改為 `True`。\n"
      ]
    },
    {
      "cell_type": "code",
      "execution_count": 2,
      "id": "32ea708c",
      "metadata": {},
      "outputs": [],
      "source": [
        "from pathlib import Path\n",
        "Path.cwd()\n"
      ]
    },
    {
      "cell_type": "code",
      "execution_count": 3,
      "id": "784c7a89",
      "metadata": {},
      "outputs": [],
      "source": [
        "from pathlib import Path\n",
        "\n",
        "# === 基本參數 ===\n",
        "SOURCE_PATH = Path(\"work\") / \"mkdocs/My_Notes/課_四34_所得税法四/逐字稿/W04_0925.md\"\n",
        "\n",
        "ENCODING = \"utf-8\"                                 # 文字編碼\n",
        "MIN_CHARS = 2000                                    # 單段最少字數\n",
        "MAX_CHARS = 3000                                    # 單段最多字數\n",
        "\n",
        "# 如果想另存成新檔，將下列設成 Path 物件；若為 None 則改寫原檔。\n",
        "OUTPUT_PATH = None\n",
        "\n"
      ]
    },
    {
      "cell_type": "code",
      "execution_count": 4,
      "id": "c67d3cd9",
      "metadata": {},
      "outputs": [],
      "source": [
        "import re\n",
        "from typing import List\n",
        "\n",
        "_split_pattern = re.compile(r\".*?(?:[。！？!?；;：:]\\s*|\\n+|$)\", re.S)\n",
        "\n",
        "def _split_sentences(text: str) -> List[str]:\n",
        "    \"\"\"把文字依句號、感嘆號、問號、頓號、換行等標記拆成片段。\"\"\"\n",
        "    sentences = [frag for frag in _split_pattern.findall(text) if frag]\n",
        "    return sentences\n",
        "\n",
        "def split_into_chunks(text: str, min_chars: int = 2000, max_chars: int = 3000) -> List[str]:\n",
        "    \"\"\"依指定字數範圍，把文字拆成段落。\"\"\"\n",
        "    if min_chars <= 0 or max_chars <= 0:\n",
        "        raise ValueError(\"min_chars 和 max_chars 必須為正整數\")\n",
        "    if min_chars > max_chars:\n",
        "        raise ValueError(\"min_chars 不能大於 max_chars\")\n",
        "\n",
        "    sentences = _split_sentences(text)\n",
        "    chunks: List[str] = []\n",
        "    current = \"\"\n",
        "\n",
        "    for sentence in sentences:\n",
        "        if not sentence:\n",
        "            continue\n",
        "        # 若單一句過長，直接硬切\n",
        "        while len(sentence) > max_chars:\n",
        "            need = max_chars - len(current)\n",
        "            if need <= 0:\n",
        "                if current:\n",
        "                    chunks.append(current.rstrip())\n",
        "                    current = \"\"\n",
        "                need = max_chars\n",
        "            current += sentence[:need]\n",
        "            sentence = sentence[need:]\n",
        "            if len(current) >= min_chars:\n",
        "                chunks.append(current.rstrip())\n",
        "                current = \"\"\n",
        "        # 一般情形\n",
        "        if len(current) + len(sentence) <= max_chars:\n",
        "            current += sentence\n",
        "        else:\n",
        "            if current:\n",
        "                if len(current) < min_chars:\n",
        "                    needed = min(min_chars - len(current), len(sentence))\n",
        "                    current += sentence[:needed]\n",
        "                    sentence = sentence[needed:]\n",
        "                chunks.append(current.rstrip())\n",
        "            current = sentence\n",
        "\n",
        "    if current:\n",
        "        chunks.append(current.rstrip())\n",
        "\n",
        "    return chunks\n",
        "\n"
      ]
    },
    {
      "cell_type": "code",
      "execution_count": 5,
      "id": "435eb3e9",
      "metadata": {},
      "outputs": [],
      "source": [
        "# === 讀檔並預覽分段結果 ===\n",
        "raw_text = SOURCE_PATH.read_text(encoding=ENCODING)\n",
        "chunks = split_into_chunks(raw_text, MIN_CHARS, MAX_CHARS)\n",
        "\n",
        "print(f\"原文字數：{len(raw_text)}\")\n",
        "print(f\"段落數量：{len(chunks)}\")\n",
        "print(f\"每段字數：{[len(chunk) for chunk in chunks[:5]]} ...\\n\")\n",
        "\n",
        "# 預覽前兩段內容\n",
        "for idx, chunk in enumerate(chunks[:2], start=1):\n",
        "    print(f\"---- 第 {idx} 段（{len(chunk)} 字）----\")\n",
        "    preview = chunk.replace('\\r\\n', '\\n').replace('\\r', '\\n')\n",
        "    snippet = preview[:200] + ('...' if len(preview) > 200 else '')\n",
        "    print(snippet)\n",
        "    print()\n",
        "\n"
      ]
    },
    {
      "cell_type": "code",
      "execution_count": 6,
      "id": "49baf30a",
      "metadata": {},
      "outputs": [],
      "source": [
        "# === 寫回檔案 ===\n",
        "WRITE_BACK = True  # 確認無誤後改成 True\n",
        "TARGET_PATH = OUTPUT_PATH or SOURCE_PATH\n",
        "\n",
        "if WRITE_BACK:\n",
        "    normalized = [chunk.strip() for chunk in chunks]\n",
        "    TARGET_PATH.write_text('\\n\\n\\n\\n\\n\\n\\n\\n'.join(normalized), encoding=ENCODING)\n",
        "    print(f'已寫入：{TARGET_PATH}')\n",
        "else:\n",
        "    print('WRITE_BACK 為 False，未寫入檔案。')"
      ]
    }
  ],
  "metadata": {
    "kernelspec": {
      "display_name": "Python 3 (ipykernel)",
      "language": "python",
      "name": "python3"
    }
  },
  "nbformat": 4,
  "nbformat_minor": 5
}
