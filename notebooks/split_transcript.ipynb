{
  "cells": [
    {
      "cell_type": "markdown",
      "metadata": {},
      "source": [
        "# 逐字稿自動分段工具 (2,000–3,000 字)\n",
        "\n",
        "這份 Notebook 幫你把貼成一整段的逐字稿，依字數切成段落。流程：\n",
        "\n",
        "1. 設定要處理的檔案路徑，以及每段字數範圍（預設 2,000–3,000 字）。\n",
        "2. 執行分段函式，先預覽每段的長度與內容。\n",
        "3. 確認沒問題後寫回原檔（或另存）。\n",
        "\n",
        "> ⚠️ 建議先備份原檔，或在 `WRITE_BACK` 參數確認無誤後再改為 `True`。\n"
      ]
    },
    {
      "cell_type": "code",
      "execution_count": 1,
      "id": "32ea708c",
      "metadata": {},
      "outputs": [
        {
          "data": {
            "text/plain": [
              "PosixPath('/home/jovyan')"
            ]
          },
          "execution_count": 1,
          "metadata": {},
          "output_type": "execute_result"
        }
      ],
      "source": [
        "from pathlib import Path\n",
        "Path.cwd()\n"
      ]
    },
    {
      "cell_type": "code",
      "execution_count": 2,
      "metadata": {},
      "outputs": [],
      "source": [
        "from pathlib import Path\n",
        "\n",
        "# === 基本參數 ===\n",
        "SOURCE_PATH = Path(\"work\") / \"mkdocs/My_Notes/課_二89_租稅法總論/逐字稿/W04_0923.md\"\n",
        "\n",
        "ENCODING = \"utf-8\"                                 # 文字編碼\n",
        "MIN_CHARS = 2000                                    # 單段最少字數\n",
        "MAX_CHARS = 3000                                    # 單段最多字數\n",
        "\n",
        "# 如果想另存成新檔，將下列設成 Path 物件；若為 None 則改寫原檔。\n",
        "OUTPUT_PATH = None\n",
        "\n"
      ]
    },
    {
      "cell_type": "code",
      "execution_count": 3,
      "metadata": {},
      "outputs": [],
      "source": [
        "import re\n",
        "from typing import List\n",
        "\n",
        "_split_pattern = re.compile(r\".*?(?:[。！？!?；;：:]\\s*|\\n+|$)\", re.S)\n",
        "\n",
        "def _split_sentences(text: str) -> List[str]:\n",
        "    \"\"\"把文字依句號、感嘆號、問號、頓號、換行等標記拆成片段。\"\"\"\n",
        "    sentences = [frag for frag in _split_pattern.findall(text) if frag]\n",
        "    return sentences\n",
        "\n",
        "def split_into_chunks(text: str, min_chars: int = 2000, max_chars: int = 3000) -> List[str]:\n",
        "    \"\"\"依指定字數範圍，把文字拆成段落。\"\"\"\n",
        "    if min_chars <= 0 or max_chars <= 0:\n",
        "        raise ValueError(\"min_chars 和 max_chars 必須為正整數\")\n",
        "    if min_chars > max_chars:\n",
        "        raise ValueError(\"min_chars 不能大於 max_chars\")\n",
        "\n",
        "    sentences = _split_sentences(text)\n",
        "    chunks: List[str] = []\n",
        "    current = \"\"\n",
        "\n",
        "    for sentence in sentences:\n",
        "        if not sentence:\n",
        "            continue\n",
        "        # 若單一句過長，直接硬切\n",
        "        while len(sentence) > max_chars:\n",
        "            need = max_chars - len(current)\n",
        "            if need <= 0:\n",
        "                if current:\n",
        "                    chunks.append(current.rstrip())\n",
        "                    current = \"\"\n",
        "                need = max_chars\n",
        "            current += sentence[:need]\n",
        "            sentence = sentence[need:]\n",
        "            if len(current) >= min_chars:\n",
        "                chunks.append(current.rstrip())\n",
        "                current = \"\"\n",
        "        # 一般情形\n",
        "        if len(current) + len(sentence) <= max_chars:\n",
        "            current += sentence\n",
        "        else:\n",
        "            if current:\n",
        "                if len(current) < min_chars:\n",
        "                    needed = min(min_chars - len(current), len(sentence))\n",
        "                    current += sentence[:needed]\n",
        "                    sentence = sentence[needed:]\n",
        "                chunks.append(current.rstrip())\n",
        "            current = sentence\n",
        "\n",
        "    if current:\n",
        "        chunks.append(current.rstrip())\n",
        "\n",
        "    return chunks\n",
        "\n"
      ]
    },
    {
      "cell_type": "code",
      "execution_count": 4,
      "id": "435eb3e9",
      "metadata": {},
      "outputs": [
        {
          "name": "stdout",
          "output_type": "stream",
          "text": [
            "原文字數：14309\n",
            "段落數量：5\n",
            "每段字數：[2893, 2999, 2997, 3000, 2420] ...\n",
            "\n",
            "---- 第 1 段（2893 字）----\n",
            "---\n",
            "title: \"租稅法總論（課二89） | W04 0923\"\n",
            "description: \"課堂逐字稿，\"\n",
            "categories:\n",
            "  - \"課程筆記\"\n",
            "  - \"租稅法總論\"\n",
            "  - \"逐字稿\"\n",
            "tags:\n",
            "  - \"課程筆記\"\n",
            "  - \"租稅法\"\n",
            "  - \"稅法總論\"\n",
            "  - \"逐字稿\"\n",
            "lang: \"zh-Hant\"\n",
            "---\n",
            "\n",
            "# W04 0923\n",
            "\n",
            "\n",
            "我們基本上會談在稅捐的，實務上...\n",
            "\n",
            "---- 第 2 段（2999 字）----\n",
            "選出來的議員做成的決定，你才可以跟我要錢，要錢可以，一把，一把課稅，這個真的是一個所謂的目的，我們雖然承認國家需要錢的存在，它有這個正當性存在，我如果在上一次跟各位講過說，國家在現代的演進過程當中裡面，它國家的任務不斷的在演進，我們從，封建時代的國家，國家的主體不是人民，國家的主體不是人民，國家的主體無名是國家的君主，女王或是國王，在現在國家的演進過程當中，當國家慢慢的變成是由人民全體，依照他的意...\n",
            "\n"
          ]
        }
      ],
      "source": [
        "# === 讀檔並預覽分段結果 ===\n",
        "raw_text = SOURCE_PATH.read_text(encoding=ENCODING)\n",
        "chunks = split_into_chunks(raw_text, MIN_CHARS, MAX_CHARS)\n",
        "\n",
        "print(f\"原文字數：{len(raw_text)}\")\n",
        "print(f\"段落數量：{len(chunks)}\")\n",
        "print(f\"每段字數：{[len(chunk) for chunk in chunks[:5]]} ...\\n\")\n",
        "\n",
        "# 預覽前兩段內容\n",
        "for idx, chunk in enumerate(chunks[:2], start=1):\n",
        "    print(f\"---- 第 {idx} 段（{len(chunk)} 字）----\")\n",
        "    preview = chunk.replace('\\r\\n', '\\n').replace('\\r', '\\n')\n",
        "    snippet = preview[:200] + ('...' if len(preview) > 200 else '')\n",
        "    print(snippet)\n",
        "    print()\n",
        "\n"
      ]
    },
    {
      "cell_type": "code",
      "execution_count": 5,
      "metadata": {},
      "outputs": [
        {
          "name": "stdout",
          "output_type": "stream",
          "text": [
            "已寫入：work/mkdocs/My_Notes/課_二89_租稅法總論/逐字稿/W04_0923.md\n"
          ]
        }
      ],
      "source": [
        "# === 寫回檔案 ===\n",
        "WRITE_BACK = True # 確認無誤後改成 True\n",
        "TARGET_PATH = OUTPUT_PATH or SOURCE_PATH\n",
        "\n",
        "if WRITE_BACK:\n",
        "    TARGET_PATH.write_text(\"\".join(chunk.strip('') for chunk in chunks), encoding=ENCODING)\n",
        "    print(f\"已寫入：{TARGET_PATH}\")\n",
        "else:\n",
        "    print(\"WRITE_BACK 為 False，未寫入檔案。\")\n",
        "\n"
      ]
    }
  ],
  "metadata": {
    "kernelspec": {
      "display_name": "Python 3 (ipykernel)",
      "language": "python",
      "name": "python3"
    },
    "language_info": {
      "codemirror_mode": {
        "name": "ipython",
        "version": 3
      },
      "file_extension": ".py",
      "mimetype": "text/x-python",
      "name": "python",
      "nbconvert_exporter": "python",
      "pygments_lexer": "ipython3",
      "version": "3.11.6"
    }
  },
  "nbformat": 4,
  "nbformat_minor": 5
}
